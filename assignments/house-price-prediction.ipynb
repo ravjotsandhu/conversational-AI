{
 "cells": [
  {
   "cell_type": "code",
   "execution_count": 1,
   "id": "7f04eca2",
   "metadata": {
    "execution": {
     "iopub.execute_input": "2022-02-28T22:01:52.343844Z",
     "iopub.status.busy": "2022-02-28T22:01:52.338019Z",
     "iopub.status.idle": "2022-02-28T22:01:56.116960Z",
     "shell.execute_reply": "2022-02-28T22:01:56.117976Z",
     "shell.execute_reply.started": "2022-02-28T21:49:05.866135Z"
    },
    "papermill": {
     "duration": 3.816909,
     "end_time": "2022-02-28T22:01:56.118339",
     "exception": false,
     "start_time": "2022-02-28T22:01:52.301430",
     "status": "completed"
    },
    "tags": []
   },
   "outputs": [],
   "source": [
    "import cupy as np\n",
    "import cudf as pd\n",
    "import matplotlib.pyplot as plt\n",
    "import seaborn as sns"
   ]
  },
  {
   "cell_type": "code",
   "execution_count": 2,
   "id": "2325c652",
   "metadata": {
    "execution": {
     "iopub.execute_input": "2022-02-28T22:01:56.234999Z",
     "iopub.status.busy": "2022-02-28T22:01:56.233919Z",
     "iopub.status.idle": "2022-02-28T22:01:58.749897Z",
     "shell.execute_reply": "2022-02-28T22:01:58.750314Z",
     "shell.execute_reply.started": "2022-02-28T21:49:05.885952Z"
    },
    "papermill": {
     "duration": 2.570334,
     "end_time": "2022-02-28T22:01:58.750458",
     "exception": false,
     "start_time": "2022-02-28T22:01:56.180124",
     "status": "completed"
    },
    "tags": []
   },
   "outputs": [
    {
     "data": {
      "text/html": [
       "<div>\n",
       "<style scoped>\n",
       "    .dataframe tbody tr th:only-of-type {\n",
       "        vertical-align: middle;\n",
       "    }\n",
       "\n",
       "    .dataframe tbody tr th {\n",
       "        vertical-align: top;\n",
       "    }\n",
       "\n",
       "    .dataframe thead th {\n",
       "        text-align: right;\n",
       "    }\n",
       "</style>\n",
       "<table border=\"1\" class=\"dataframe\">\n",
       "  <thead>\n",
       "    <tr style=\"text-align: right;\">\n",
       "      <th></th>\n",
       "      <th>Id</th>\n",
       "      <th>MSSubClass</th>\n",
       "      <th>MSZoning</th>\n",
       "      <th>LotFrontage</th>\n",
       "      <th>LotArea</th>\n",
       "      <th>Street</th>\n",
       "      <th>Alley</th>\n",
       "      <th>LotShape</th>\n",
       "      <th>LandContour</th>\n",
       "      <th>Utilities</th>\n",
       "      <th>...</th>\n",
       "      <th>PoolArea</th>\n",
       "      <th>PoolQC</th>\n",
       "      <th>Fence</th>\n",
       "      <th>MiscFeature</th>\n",
       "      <th>MiscVal</th>\n",
       "      <th>MoSold</th>\n",
       "      <th>YrSold</th>\n",
       "      <th>SaleType</th>\n",
       "      <th>SaleCondition</th>\n",
       "      <th>SalePrice</th>\n",
       "    </tr>\n",
       "  </thead>\n",
       "  <tbody>\n",
       "    <tr>\n",
       "      <th>0</th>\n",
       "      <td>1</td>\n",
       "      <td>60</td>\n",
       "      <td>RL</td>\n",
       "      <td>65.0</td>\n",
       "      <td>8450</td>\n",
       "      <td>Pave</td>\n",
       "      <td>&lt;NA&gt;</td>\n",
       "      <td>Reg</td>\n",
       "      <td>Lvl</td>\n",
       "      <td>AllPub</td>\n",
       "      <td>...</td>\n",
       "      <td>0</td>\n",
       "      <td>&lt;NA&gt;</td>\n",
       "      <td>&lt;NA&gt;</td>\n",
       "      <td>&lt;NA&gt;</td>\n",
       "      <td>0</td>\n",
       "      <td>2</td>\n",
       "      <td>2008</td>\n",
       "      <td>WD</td>\n",
       "      <td>Normal</td>\n",
       "      <td>208500</td>\n",
       "    </tr>\n",
       "    <tr>\n",
       "      <th>1</th>\n",
       "      <td>2</td>\n",
       "      <td>20</td>\n",
       "      <td>RL</td>\n",
       "      <td>80.0</td>\n",
       "      <td>9600</td>\n",
       "      <td>Pave</td>\n",
       "      <td>&lt;NA&gt;</td>\n",
       "      <td>Reg</td>\n",
       "      <td>Lvl</td>\n",
       "      <td>AllPub</td>\n",
       "      <td>...</td>\n",
       "      <td>0</td>\n",
       "      <td>&lt;NA&gt;</td>\n",
       "      <td>&lt;NA&gt;</td>\n",
       "      <td>&lt;NA&gt;</td>\n",
       "      <td>0</td>\n",
       "      <td>5</td>\n",
       "      <td>2007</td>\n",
       "      <td>WD</td>\n",
       "      <td>Normal</td>\n",
       "      <td>181500</td>\n",
       "    </tr>\n",
       "    <tr>\n",
       "      <th>2</th>\n",
       "      <td>3</td>\n",
       "      <td>60</td>\n",
       "      <td>RL</td>\n",
       "      <td>68.0</td>\n",
       "      <td>11250</td>\n",
       "      <td>Pave</td>\n",
       "      <td>&lt;NA&gt;</td>\n",
       "      <td>IR1</td>\n",
       "      <td>Lvl</td>\n",
       "      <td>AllPub</td>\n",
       "      <td>...</td>\n",
       "      <td>0</td>\n",
       "      <td>&lt;NA&gt;</td>\n",
       "      <td>&lt;NA&gt;</td>\n",
       "      <td>&lt;NA&gt;</td>\n",
       "      <td>0</td>\n",
       "      <td>9</td>\n",
       "      <td>2008</td>\n",
       "      <td>WD</td>\n",
       "      <td>Normal</td>\n",
       "      <td>223500</td>\n",
       "    </tr>\n",
       "    <tr>\n",
       "      <th>3</th>\n",
       "      <td>4</td>\n",
       "      <td>70</td>\n",
       "      <td>RL</td>\n",
       "      <td>60.0</td>\n",
       "      <td>9550</td>\n",
       "      <td>Pave</td>\n",
       "      <td>&lt;NA&gt;</td>\n",
       "      <td>IR1</td>\n",
       "      <td>Lvl</td>\n",
       "      <td>AllPub</td>\n",
       "      <td>...</td>\n",
       "      <td>0</td>\n",
       "      <td>&lt;NA&gt;</td>\n",
       "      <td>&lt;NA&gt;</td>\n",
       "      <td>&lt;NA&gt;</td>\n",
       "      <td>0</td>\n",
       "      <td>2</td>\n",
       "      <td>2006</td>\n",
       "      <td>WD</td>\n",
       "      <td>Abnorml</td>\n",
       "      <td>140000</td>\n",
       "    </tr>\n",
       "    <tr>\n",
       "      <th>4</th>\n",
       "      <td>5</td>\n",
       "      <td>60</td>\n",
       "      <td>RL</td>\n",
       "      <td>84.0</td>\n",
       "      <td>14260</td>\n",
       "      <td>Pave</td>\n",
       "      <td>&lt;NA&gt;</td>\n",
       "      <td>IR1</td>\n",
       "      <td>Lvl</td>\n",
       "      <td>AllPub</td>\n",
       "      <td>...</td>\n",
       "      <td>0</td>\n",
       "      <td>&lt;NA&gt;</td>\n",
       "      <td>&lt;NA&gt;</td>\n",
       "      <td>&lt;NA&gt;</td>\n",
       "      <td>0</td>\n",
       "      <td>12</td>\n",
       "      <td>2008</td>\n",
       "      <td>WD</td>\n",
       "      <td>Normal</td>\n",
       "      <td>250000</td>\n",
       "    </tr>\n",
       "  </tbody>\n",
       "</table>\n",
       "<p>5 rows × 81 columns</p>\n",
       "</div>"
      ],
      "text/plain": [
       "   Id  MSSubClass MSZoning  LotFrontage  LotArea Street Alley LotShape  \\\n",
       "0   1          60       RL         65.0     8450   Pave  <NA>      Reg   \n",
       "1   2          20       RL         80.0     9600   Pave  <NA>      Reg   \n",
       "2   3          60       RL         68.0    11250   Pave  <NA>      IR1   \n",
       "3   4          70       RL         60.0     9550   Pave  <NA>      IR1   \n",
       "4   5          60       RL         84.0    14260   Pave  <NA>      IR1   \n",
       "\n",
       "  LandContour Utilities  ... PoolArea  PoolQC Fence MiscFeature MiscVal  \\\n",
       "0         Lvl    AllPub  ...        0    <NA>  <NA>        <NA>       0   \n",
       "1         Lvl    AllPub  ...        0    <NA>  <NA>        <NA>       0   \n",
       "2         Lvl    AllPub  ...        0    <NA>  <NA>        <NA>       0   \n",
       "3         Lvl    AllPub  ...        0    <NA>  <NA>        <NA>       0   \n",
       "4         Lvl    AllPub  ...        0    <NA>  <NA>        <NA>       0   \n",
       "\n",
       "   MoSold  YrSold  SaleType SaleCondition SalePrice  \n",
       "0       2    2008        WD        Normal    208500  \n",
       "1       5    2007        WD        Normal    181500  \n",
       "2       9    2008        WD        Normal    223500  \n",
       "3       2    2006        WD       Abnorml    140000  \n",
       "4      12    2008        WD        Normal    250000  \n",
       "\n",
       "[5 rows x 81 columns]"
      ]
     },
     "execution_count": 2,
     "metadata": {},
     "output_type": "execute_result"
    }
   ],
   "source": [
    "df=pd.read_csv('../input/house-prices-advanced-regression-techniques/train.csv')\n",
    "test_df=pd.read_csv('../input/house-prices-advanced-regression-techniques/test.csv')\n",
    "# data= pd.concat([df,test_df],axis=0)\n",
    "# print(test_df.head)\n",
    "df.head()\n"
   ]
  },
  {
   "cell_type": "code",
   "execution_count": 3,
   "id": "18298935",
   "metadata": {
    "execution": {
     "iopub.execute_input": "2022-02-28T22:01:58.818737Z",
     "iopub.status.busy": "2022-02-28T22:01:58.815380Z",
     "iopub.status.idle": "2022-02-28T22:01:58.853816Z",
     "shell.execute_reply": "2022-02-28T22:01:58.853075Z",
     "shell.execute_reply.started": "2022-02-28T21:49:06.186943Z"
    },
    "papermill": {
     "duration": 0.072314,
     "end_time": "2022-02-28T22:01:58.853930",
     "exception": false,
     "start_time": "2022-02-28T22:01:58.781616",
     "status": "completed"
    },
    "tags": []
   },
   "outputs": [
    {
     "data": {
      "text/plain": [
       "RL         1151\n",
       "RM          218\n",
       "FV           65\n",
       "RH           16\n",
       "C (all)      10\n",
       "Name: MSZoning, dtype: int32"
      ]
     },
     "execution_count": 3,
     "metadata": {},
     "output_type": "execute_result"
    }
   ],
   "source": [
    "df['MSZoning'].value_counts()"
   ]
  },
  {
   "cell_type": "code",
   "execution_count": 4,
   "id": "bb7bcde5",
   "metadata": {
    "execution": {
     "iopub.execute_input": "2022-02-28T22:01:58.924430Z",
     "iopub.status.busy": "2022-02-28T22:01:58.923745Z",
     "iopub.status.idle": "2022-02-28T22:01:58.975692Z",
     "shell.execute_reply": "2022-02-28T22:01:58.976147Z",
     "shell.execute_reply.started": "2022-02-28T21:49:06.206712Z"
    },
    "papermill": {
     "duration": 0.089205,
     "end_time": "2022-02-28T22:01:58.976282",
     "exception": false,
     "start_time": "2022-02-28T22:01:58.887077",
     "status": "completed"
    },
    "tags": []
   },
   "outputs": [
    {
     "name": "stdout",
     "output_type": "stream",
     "text": [
      "<class 'cudf.core.dataframe.DataFrame'>\n",
      "RangeIndex: 1460 entries, 0 to 1459\n",
      "Data columns (total 81 columns):\n",
      " #   Column         Non-Null Count  Dtype\n",
      "---  ------         --------------  -----\n",
      " 0   Id             1460 non-null   int64\n",
      " 1   MSSubClass     1460 non-null   int64\n",
      " 2   MSZoning       1460 non-null   object\n",
      " 3   LotFrontage    1201 non-null   float64\n",
      " 4   LotArea        1460 non-null   int64\n",
      " 5   Street         1460 non-null   object\n",
      " 6   Alley          91 non-null     object\n",
      " 7   LotShape       1460 non-null   object\n",
      " 8   LandContour    1460 non-null   object\n",
      " 9   Utilities      1460 non-null   object\n",
      " 10  LotConfig      1460 non-null   object\n",
      " 11  LandSlope      1460 non-null   object\n",
      " 12  Neighborhood   1460 non-null   object\n",
      " 13  Condition1     1460 non-null   object\n",
      " 14  Condition2     1460 non-null   object\n",
      " 15  BldgType       1460 non-null   object\n",
      " 16  HouseStyle     1460 non-null   object\n",
      " 17  OverallQual    1460 non-null   int64\n",
      " 18  OverallCond    1460 non-null   int64\n",
      " 19  YearBuilt      1460 non-null   int64\n",
      " 20  YearRemodAdd   1460 non-null   int64\n",
      " 21  RoofStyle      1460 non-null   object\n",
      " 22  RoofMatl       1460 non-null   object\n",
      " 23  Exterior1st    1460 non-null   object\n",
      " 24  Exterior2nd    1460 non-null   object\n",
      " 25  MasVnrType     1452 non-null   object\n",
      " 26  MasVnrArea     1452 non-null   float64\n",
      " 27  ExterQual      1460 non-null   object\n",
      " 28  ExterCond      1460 non-null   object\n",
      " 29  Foundation     1460 non-null   object\n",
      " 30  BsmtQual       1423 non-null   object\n",
      " 31  BsmtCond       1423 non-null   object\n",
      " 32  BsmtExposure   1422 non-null   object\n",
      " 33  BsmtFinType1   1423 non-null   object\n",
      " 34  BsmtFinSF1     1460 non-null   int64\n",
      " 35  BsmtFinType2   1422 non-null   object\n",
      " 36  BsmtFinSF2     1460 non-null   int64\n",
      " 37  BsmtUnfSF      1460 non-null   int64\n",
      " 38  TotalBsmtSF    1460 non-null   int64\n",
      " 39  Heating        1460 non-null   object\n",
      " 40  HeatingQC      1460 non-null   object\n",
      " 41  CentralAir     1460 non-null   object\n",
      " 42  Electrical     1459 non-null   object\n",
      " 43  1stFlrSF       1460 non-null   int64\n",
      " 44  2ndFlrSF       1460 non-null   int64\n",
      " 45  LowQualFinSF   1460 non-null   int64\n",
      " 46  GrLivArea      1460 non-null   int64\n",
      " 47  BsmtFullBath   1460 non-null   int64\n",
      " 48  BsmtHalfBath   1460 non-null   int64\n",
      " 49  FullBath       1460 non-null   int64\n",
      " 50  HalfBath       1460 non-null   int64\n",
      " 51  BedroomAbvGr   1460 non-null   int64\n",
      " 52  KitchenAbvGr   1460 non-null   int64\n",
      " 53  KitchenQual    1460 non-null   object\n",
      " 54  TotRmsAbvGrd   1460 non-null   int64\n",
      " 55  Functional     1460 non-null   object\n",
      " 56  Fireplaces     1460 non-null   int64\n",
      " 57  FireplaceQu    770 non-null    object\n",
      " 58  GarageType     1379 non-null   object\n",
      " 59  GarageYrBlt    1379 non-null   float64\n",
      " 60  GarageFinish   1379 non-null   object\n",
      " 61  GarageCars     1460 non-null   int64\n",
      " 62  GarageArea     1460 non-null   int64\n",
      " 63  GarageQual     1379 non-null   object\n",
      " 64  GarageCond     1379 non-null   object\n",
      " 65  PavedDrive     1460 non-null   object\n",
      " 66  WoodDeckSF     1460 non-null   int64\n",
      " 67  OpenPorchSF    1460 non-null   int64\n",
      " 68  EnclosedPorch  1460 non-null   int64\n",
      " 69  3SsnPorch      1460 non-null   int64\n",
      " 70  ScreenPorch    1460 non-null   int64\n",
      " 71  PoolArea       1460 non-null   int64\n",
      " 72  PoolQC         7 non-null      object\n",
      " 73  Fence          281 non-null    object\n",
      " 74  MiscFeature    54 non-null     object\n",
      " 75  MiscVal        1460 non-null   int64\n",
      " 76  MoSold         1460 non-null   int64\n",
      " 77  YrSold         1460 non-null   int64\n",
      " 78  SaleType       1460 non-null   object\n",
      " 79  SaleCondition  1460 non-null   object\n",
      " 80  SalePrice      1460 non-null   int64\n",
      "dtypes: float64(3), int64(35), object(43)\n",
      "memory usage: 888.7+ KB\n"
     ]
    }
   ],
   "source": [
    "df.info()"
   ]
  },
  {
   "cell_type": "markdown",
   "id": "1436c958",
   "metadata": {
    "papermill": {
     "duration": 0.031157,
     "end_time": "2022-02-28T22:01:59.039338",
     "exception": false,
     "start_time": "2022-02-28T22:01:59.008181",
     "status": "completed"
    },
    "tags": []
   },
   "source": [
    "# handling missing values"
   ]
  },
  {
   "cell_type": "code",
   "execution_count": 5,
   "id": "09adf226",
   "metadata": {
    "execution": {
     "iopub.execute_input": "2022-02-28T22:01:59.106370Z",
     "iopub.status.busy": "2022-02-28T22:01:59.105561Z",
     "iopub.status.idle": "2022-02-28T22:01:59.107625Z",
     "shell.execute_reply": "2022-02-28T22:01:59.108132Z",
     "shell.execute_reply.started": "2022-02-28T21:49:06.259876Z"
    },
    "papermill": {
     "duration": 0.037127,
     "end_time": "2022-02-28T22:01:59.108265",
     "exception": false,
     "start_time": "2022-02-28T22:01:59.071138",
     "status": "completed"
    },
    "tags": []
   },
   "outputs": [],
   "source": [
    "# import missingno as msno \n",
    "# msno.bar(df)"
   ]
  },
  {
   "cell_type": "markdown",
   "id": "fa6c5ed9",
   "metadata": {
    "papermill": {
     "duration": 0.032021,
     "end_time": "2022-02-28T22:01:59.172378",
     "exception": false,
     "start_time": "2022-02-28T22:01:59.140357",
     "status": "completed"
    },
    "tags": []
   },
   "source": [
    "As we can see both test and train data have missing values so we will handle them both"
   ]
  },
  {
   "cell_type": "markdown",
   "id": "44caef00",
   "metadata": {
    "papermill": {
     "duration": 0.031268,
     "end_time": "2022-02-28T22:01:59.234881",
     "exception": false,
     "start_time": "2022-02-28T22:01:59.203613",
     "status": "completed"
    },
    "tags": []
   },
   "source": [
    "dropping follwing columns as their total entries are too low"
   ]
  },
  {
   "cell_type": "code",
   "execution_count": 6,
   "id": "8a9b46b1",
   "metadata": {
    "execution": {
     "iopub.execute_input": "2022-02-28T22:01:59.301286Z",
     "iopub.status.busy": "2022-02-28T22:01:59.300476Z",
     "iopub.status.idle": "2022-02-28T22:01:59.302931Z",
     "shell.execute_reply": "2022-02-28T22:01:59.302471Z",
     "shell.execute_reply.started": "2022-02-28T21:49:06.265604Z"
    },
    "papermill": {
     "duration": 0.037012,
     "end_time": "2022-02-28T22:01:59.303044",
     "exception": false,
     "start_time": "2022-02-28T22:01:59.266032",
     "status": "completed"
    },
    "tags": []
   },
   "outputs": [],
   "source": [
    "# data.drop(['Alley','PoolQC','Fence','MiscFeature'],axis=1,inplace=True)"
   ]
  },
  {
   "cell_type": "code",
   "execution_count": 7,
   "id": "db28e2f2",
   "metadata": {
    "execution": {
     "iopub.execute_input": "2022-02-28T22:01:59.369402Z",
     "iopub.status.busy": "2022-02-28T22:01:59.368714Z",
     "iopub.status.idle": "2022-02-28T22:01:59.371204Z",
     "shell.execute_reply": "2022-02-28T22:01:59.370783Z",
     "shell.execute_reply.started": "2022-02-28T21:49:06.274404Z"
    },
    "papermill": {
     "duration": 0.036932,
     "end_time": "2022-02-28T22:01:59.371304",
     "exception": false,
     "start_time": "2022-02-28T22:01:59.334372",
     "status": "completed"
    },
    "tags": []
   },
   "outputs": [],
   "source": [
    "# print(df['BsmtCond'].value_counts())\n",
    "# print(df['BsmtQual'].value_counts())\n",
    "# print(df['FireplaceQu'].value_counts())\n",
    "# print(df['GarageType'].value_counts())\n",
    "# print(df['GarageFinish'].value_counts())\n",
    "# print(df['GarageQual'].value_counts())\n",
    "# print(df['BsmtFinType2'].value_counts())\n",
    "# print(df['GarageCond'].value_counts())\n",
    "# print(df['MasVnrType'].value_counts())\n",
    "# print(df['MasVnrType'].value_counts())\n",
    "# print(df['BsmtExposure'].value_counts())\n"
   ]
  },
  {
   "cell_type": "code",
   "execution_count": 8,
   "id": "09546077",
   "metadata": {
    "execution": {
     "iopub.execute_input": "2022-02-28T22:01:59.439066Z",
     "iopub.status.busy": "2022-02-28T22:01:59.436612Z",
     "iopub.status.idle": "2022-02-28T22:01:59.441456Z",
     "shell.execute_reply": "2022-02-28T22:01:59.441061Z",
     "shell.execute_reply.started": "2022-02-28T21:49:06.282130Z"
    },
    "papermill": {
     "duration": 0.038344,
     "end_time": "2022-02-28T22:01:59.441588",
     "exception": false,
     "start_time": "2022-02-28T22:01:59.403244",
     "status": "completed"
    },
    "tags": []
   },
   "outputs": [],
   "source": [
    "df.drop(['Alley','PoolQC','Fence','MiscFeature'],axis=1,inplace=True)\n",
    "# df.drop(['Alley','PoolQC','Fence','MiscFeature'],axis=1,inplace=True)"
   ]
  },
  {
   "cell_type": "code",
   "execution_count": 9,
   "id": "9ba8b816",
   "metadata": {
    "execution": {
     "iopub.execute_input": "2022-02-28T22:01:59.510731Z",
     "iopub.status.busy": "2022-02-28T22:01:59.510127Z",
     "iopub.status.idle": "2022-02-28T22:01:59.525447Z",
     "shell.execute_reply": "2022-02-28T22:01:59.525032Z",
     "shell.execute_reply.started": "2022-02-28T21:49:06.292683Z"
    },
    "papermill": {
     "duration": 0.051844,
     "end_time": "2022-02-28T22:01:59.525574",
     "exception": false,
     "start_time": "2022-02-28T22:01:59.473730",
     "status": "completed"
    },
    "tags": []
   },
   "outputs": [],
   "source": [
    "df['LotFrontage']=df['LotFrontage'].fillna(df['LotFrontage'].mean())\n",
    "df['MasVnrArea']=df['MasVnrArea'].fillna(df['MasVnrArea'].mean())\n",
    "df['GarageYrBlt']=df['GarageYrBlt'].fillna(df['GarageYrBlt'].mean())\n",
    "# data.info()"
   ]
  },
  {
   "cell_type": "code",
   "execution_count": 10,
   "id": "e357c69e",
   "metadata": {
    "execution": {
     "iopub.execute_input": "2022-02-28T22:01:59.594413Z",
     "iopub.status.busy": "2022-02-28T22:01:59.593673Z",
     "iopub.status.idle": "2022-02-28T22:02:00.670336Z",
     "shell.execute_reply": "2022-02-28T22:02:00.670755Z",
     "shell.execute_reply.started": "2022-02-28T21:49:06.307889Z"
    },
    "papermill": {
     "duration": 1.113073,
     "end_time": "2022-02-28T22:02:00.670910",
     "exception": false,
     "start_time": "2022-02-28T22:01:59.557837",
     "status": "completed"
    },
    "tags": []
   },
   "outputs": [
    {
     "data": {
      "text/plain": [
       "(1460, 77)"
      ]
     },
     "execution_count": 10,
     "metadata": {},
     "output_type": "execute_result"
    }
   ],
   "source": [
    "cols=['BsmtCond','BsmtQual','FireplaceQu','GarageType','GarageFinish','GarageQual','GarageCond','MasVnrType',\n",
    "'BsmtExposure']\n",
    "for i in cols:\n",
    "    df[i]=df[i].fillna(df[i].mode()[0])\n",
    "#     data[i]=data[i].fillna(data[i].mode()[0])\n",
    "    \n",
    "df.shape"
   ]
  },
  {
   "cell_type": "markdown",
   "id": "7250d296",
   "metadata": {
    "papermill": {
     "duration": 0.031492,
     "end_time": "2022-02-28T22:02:00.734032",
     "exception": false,
     "start_time": "2022-02-28T22:02:00.702540",
     "status": "completed"
    },
    "tags": []
   },
   "source": [
    "dropping null records"
   ]
  },
  {
   "cell_type": "code",
   "execution_count": 11,
   "id": "7eb76f54",
   "metadata": {
    "execution": {
     "iopub.execute_input": "2022-02-28T22:02:00.802868Z",
     "iopub.status.busy": "2022-02-28T22:02:00.801905Z",
     "iopub.status.idle": "2022-02-28T22:02:01.207501Z",
     "shell.execute_reply": "2022-02-28T22:02:01.208007Z",
     "shell.execute_reply.started": "2022-02-28T21:49:06.471020Z"
    },
    "papermill": {
     "duration": 0.442116,
     "end_time": "2022-02-28T22:02:01.208178",
     "exception": false,
     "start_time": "2022-02-28T22:02:00.766062",
     "status": "completed"
    },
    "tags": []
   },
   "outputs": [
    {
     "data": {
      "text/plain": [
       "<AxesSubplot:>"
      ]
     },
     "execution_count": 11,
     "metadata": {},
     "output_type": "execute_result"
    },
    {
     "data": {
      "image/png": "[encoded data removed]",
      "text/plain": [
       "<Figure size 432x288 with 1 Axes>"
      ]
     },
     "metadata": {
      "needs_background": "light"
     },
     "output_type": "display_data"
    }
   ],
   "source": [
    "# sns.heatmap(data.isnull(),yticklabels=False,cbar=False,cmap='cool')\n",
    "sns.heatmap(df.isnull().as_matrix(),yticklabels=False,cbar=False,cmap='cool')"
   ]
  },
  {
   "cell_type": "code",
   "execution_count": 12,
   "id": "e553c950",
   "metadata": {
    "execution": {
     "iopub.execute_input": "2022-02-28T22:02:01.278417Z",
     "iopub.status.busy": "2022-02-28T22:02:01.277481Z",
     "iopub.status.idle": "2022-02-28T22:02:01.299826Z",
     "shell.execute_reply": "2022-02-28T22:02:01.299375Z",
     "shell.execute_reply.started": "2022-02-28T21:49:06.849965Z"
    },
    "papermill": {
     "duration": 0.058584,
     "end_time": "2022-02-28T22:02:01.299942",
     "exception": false,
     "start_time": "2022-02-28T22:02:01.241358",
     "status": "completed"
    },
    "tags": []
   },
   "outputs": [],
   "source": [
    "df['BsmtFinType1']=df['BsmtFinType1'].fillna(df['BsmtFinType1'].mode()[0])"
   ]
  },
  {
   "cell_type": "code",
   "execution_count": 13,
   "id": "740b1a3d",
   "metadata": {
    "execution": {
     "iopub.execute_input": "2022-02-28T22:02:01.369539Z",
     "iopub.status.busy": "2022-02-28T22:02:01.368724Z",
     "iopub.status.idle": "2022-02-28T22:02:01.744529Z",
     "shell.execute_reply": "2022-02-28T22:02:01.745036Z",
     "shell.execute_reply.started": "2022-02-28T21:49:06.877088Z"
    },
    "papermill": {
     "duration": 0.412953,
     "end_time": "2022-02-28T22:02:01.745180",
     "exception": false,
     "start_time": "2022-02-28T22:02:01.332227",
     "status": "completed"
    },
    "tags": []
   },
   "outputs": [
    {
     "data": {
      "text/plain": [
       "<AxesSubplot:>"
      ]
     },
     "execution_count": 13,
     "metadata": {},
     "output_type": "execute_result"
    },
    {
     "data": {
      "image/png": "[encoded data removed]",
      "text/plain": [
       "<Figure size 432x288 with 1 Axes>"
      ]
     },
     "metadata": {
      "needs_background": "light"
     },
     "output_type": "display_data"
    }
   ],
   "source": [
    "sns.heatmap(df.isnull().as_matrix(),yticklabels=False,cbar=False,cmap='cool')"
   ]
  },
  {
   "cell_type": "code",
   "execution_count": 14,
   "id": "a54d4129",
   "metadata": {
    "execution": {
     "iopub.execute_input": "2022-02-28T22:02:01.817663Z",
     "iopub.status.busy": "2022-02-28T22:02:01.816812Z",
     "iopub.status.idle": "2022-02-28T22:02:01.836477Z",
     "shell.execute_reply": "2022-02-28T22:02:01.836077Z",
     "shell.execute_reply.started": "2022-02-28T21:49:07.252829Z"
    },
    "papermill": {
     "duration": 0.057348,
     "end_time": "2022-02-28T22:02:01.836613",
     "exception": false,
     "start_time": "2022-02-28T22:02:01.779265",
     "status": "completed"
    },
    "tags": []
   },
   "outputs": [],
   "source": [
    "df['BsmtFinType2']=df['BsmtFinType2'].fillna(df['BsmtFinType2'].mode()[0])"
   ]
  },
  {
   "cell_type": "code",
   "execution_count": 15,
   "id": "af55edf4",
   "metadata": {
    "execution": {
     "iopub.execute_input": "2022-02-28T22:02:01.908590Z",
     "iopub.status.busy": "2022-02-28T22:02:01.907662Z",
     "iopub.status.idle": "2022-02-28T22:02:02.295207Z",
     "shell.execute_reply": "2022-02-28T22:02:02.295662Z",
     "shell.execute_reply.started": "2022-02-28T21:49:07.279294Z"
    },
    "papermill": {
     "duration": 0.425332,
     "end_time": "2022-02-28T22:02:02.295832",
     "exception": false,
     "start_time": "2022-02-28T22:02:01.870500",
     "status": "completed"
    },
    "tags": []
   },
   "outputs": [
    {
     "data": {
      "text/plain": [
       "<AxesSubplot:>"
      ]
     },
     "execution_count": 15,
     "metadata": {},
     "output_type": "execute_result"
    },
    {
     "data": {
      "image/png": "[encoded data removed]",
      "text/plain": [
       "<Figure size 432x288 with 1 Axes>"
      ]
     },
     "metadata": {
      "needs_background": "light"
     },
     "output_type": "display_data"
    }
   ],
   "source": [
    "sns.heatmap(df.isnull().as_matrix(),yticklabels=False,cbar=False,cmap='cool')"
   ]
  },
  {
   "cell_type": "code",
   "execution_count": 16,
   "id": "348f010f",
   "metadata": {
    "execution": {
     "iopub.execute_input": "2022-02-28T22:02:02.370618Z",
     "iopub.status.busy": "2022-02-28T22:02:02.369841Z",
     "iopub.status.idle": "2022-02-28T22:02:02.408091Z",
     "shell.execute_reply": "2022-02-28T22:02:02.407350Z",
     "shell.execute_reply.started": "2022-02-28T21:49:07.655730Z"
    },
    "papermill": {
     "duration": 0.077357,
     "end_time": "2022-02-28T22:02:02.408208",
     "exception": false,
     "start_time": "2022-02-28T22:02:02.330851",
     "status": "completed"
    },
    "tags": []
   },
   "outputs": [
    {
     "name": "stdout",
     "output_type": "stream",
     "text": [
      "<class 'cudf.core.dataframe.DataFrame'>\n",
      "RangeIndex: 1460 entries, 0 to 1459\n",
      "Data columns (total 77 columns):\n",
      " #   Column         Non-Null Count  Dtype\n",
      "---  ------         --------------  -----\n",
      " 0   Id             1460 non-null   int64\n",
      " 1   MSSubClass     1460 non-null   int64\n",
      " 2   MSZoning       1460 non-null   object\n",
      " 3   LotFrontage    1460 non-null   float64\n",
      " 4   LotArea        1460 non-null   int64\n",
      " 5   Street         1460 non-null   object\n",
      " 6   LotShape       1460 non-null   object\n",
      " 7   LandContour    1460 non-null   object\n",
      " 8   Utilities      1460 non-null   object\n",
      " 9   LotConfig      1460 non-null   object\n",
      " 10  LandSlope      1460 non-null   object\n",
      " 11  Neighborhood   1460 non-null   object\n",
      " 12  Condition1     1460 non-null   object\n",
      " 13  Condition2     1460 non-null   object\n",
      " 14  BldgType       1460 non-null   object\n",
      " 15  HouseStyle     1460 non-null   object\n",
      " 16  OverallQual    1460 non-null   int64\n",
      " 17  OverallCond    1460 non-null   int64\n",
      " 18  YearBuilt      1460 non-null   int64\n",
      " 19  YearRemodAdd   1460 non-null   int64\n",
      " 20  RoofStyle      1460 non-null   object\n",
      " 21  RoofMatl       1460 non-null   object\n",
      " 22  Exterior1st    1460 non-null   object\n",
      " 23  Exterior2nd    1460 non-null   object\n",
      " 24  MasVnrType     1460 non-null   object\n",
      " 25  MasVnrArea     1460 non-null   float64\n",
      " 26  ExterQual      1460 non-null   object\n",
      " 27  ExterCond      1460 non-null   object\n",
      " 28  Foundation     1460 non-null   object\n",
      " 29  BsmtQual       1460 non-null   object\n",
      " 30  BsmtCond       1460 non-null   object\n",
      " 31  BsmtExposure   1460 non-null   object\n",
      " 32  BsmtFinType1   1460 non-null   object\n",
      " 33  BsmtFinSF1     1460 non-null   int64\n",
      " 34  BsmtFinType2   1460 non-null   object\n",
      " 35  BsmtFinSF2     1460 non-null   int64\n",
      " 36  BsmtUnfSF      1460 non-null   int64\n",
      " 37  TotalBsmtSF    1460 non-null   int64\n",
      " 38  Heating        1460 non-null   object\n",
      " 39  HeatingQC      1460 non-null   object\n",
      " 40  CentralAir     1460 non-null   object\n",
      " 41  Electrical     1459 non-null   object\n",
      " 42  1stFlrSF       1460 non-null   int64\n",
      " 43  2ndFlrSF       1460 non-null   int64\n",
      " 44  LowQualFinSF   1460 non-null   int64\n",
      " 45  GrLivArea      1460 non-null   int64\n",
      " 46  BsmtFullBath   1460 non-null   int64\n",
      " 47  BsmtHalfBath   1460 non-null   int64\n",
      " 48  FullBath       1460 non-null   int64\n",
      " 49  HalfBath       1460 non-null   int64\n",
      " 50  BedroomAbvGr   1460 non-null   int64\n",
      " 51  KitchenAbvGr   1460 non-null   int64\n",
      " 52  KitchenQual    1460 non-null   object\n",
      " 53  TotRmsAbvGrd   1460 non-null   int64\n",
      " 54  Functional     1460 non-null   object\n",
      " 55  Fireplaces     1460 non-null   int64\n",
      " 56  FireplaceQu    1460 non-null   object\n",
      " 57  GarageType     1460 non-null   object\n",
      " 58  GarageYrBlt    1460 non-null   float64\n",
      " 59  GarageFinish   1460 non-null   object\n",
      " 60  GarageCars     1460 non-null   int64\n",
      " 61  GarageArea     1460 non-null   int64\n",
      " 62  GarageQual     1460 non-null   object\n",
      " 63  GarageCond     1460 non-null   object\n",
      " 64  PavedDrive     1460 non-null   object\n",
      " 65  WoodDeckSF     1460 non-null   int64\n",
      " 66  OpenPorchSF    1460 non-null   int64\n",
      " 67  EnclosedPorch  1460 non-null   int64\n",
      " 68  3SsnPorch      1460 non-null   int64\n",
      " 69  ScreenPorch    1460 non-null   int64\n",
      " 70  PoolArea       1460 non-null   int64\n",
      " 71  MiscVal        1460 non-null   int64\n",
      " 72  MoSold         1460 non-null   int64\n",
      " 73  YrSold         1460 non-null   int64\n",
      " 74  SaleType       1460 non-null   object\n",
      " 75  SaleCondition  1460 non-null   object\n",
      " 76  SalePrice      1460 non-null   int64\n",
      "dtypes: float64(3), int64(35), object(39)\n",
      "memory usage: 863.5+ KB\n"
     ]
    }
   ],
   "source": [
    "df.info()"
   ]
  },
  {
   "cell_type": "code",
   "execution_count": 17,
   "id": "3c35b7b6",
   "metadata": {
    "execution": {
     "iopub.execute_input": "2022-02-28T22:02:02.481828Z",
     "iopub.status.busy": "2022-02-28T22:02:02.480980Z",
     "iopub.status.idle": "2022-02-28T22:02:02.486485Z",
     "shell.execute_reply": "2022-02-28T22:02:02.486061Z",
     "shell.execute_reply.started": "2022-02-28T21:49:07.700368Z"
    },
    "papermill": {
     "duration": 0.043058,
     "end_time": "2022-02-28T22:02:02.486619",
     "exception": false,
     "start_time": "2022-02-28T22:02:02.443561",
     "status": "completed"
    },
    "tags": []
   },
   "outputs": [],
   "source": [
    "\n",
    "\n",
    "columns=['MSZoning','Street','LotShape','LandContour','Utilities','LotConfig','LandSlope','Neighborhood',\n",
    "         'Condition2','BldgType','Condition1','HouseStyle','SaleType',\n",
    "        'SaleCondition','ExterCond',\n",
    "         'ExterQual','Foundation','BsmtQual','BsmtCond','BsmtExposure','BsmtFinType1','BsmtFinType2',\n",
    "        'RoofStyle','RoofMatl','Exterior1st','Exterior2nd','MasVnrType','Heating','HeatingQC',\n",
    "         'CentralAir',\n",
    "         'Electrical','KitchenQual','Functional',\n",
    "         'FireplaceQu','GarageType','GarageFinish','GarageQual','GarageCond','PavedDrive']\n",
    "\n"
   ]
  },
  {
   "cell_type": "code",
   "execution_count": 18,
   "id": "df90b917",
   "metadata": {
    "execution": {
     "iopub.execute_input": "2022-02-28T22:02:02.563092Z",
     "iopub.status.busy": "2022-02-28T22:02:02.562587Z",
     "iopub.status.idle": "2022-02-28T22:02:03.442791Z",
     "shell.execute_reply": "2022-02-28T22:02:03.442013Z",
     "shell.execute_reply.started": "2022-02-28T21:52:27.185923Z"
    },
    "papermill": {
     "duration": 0.921308,
     "end_time": "2022-02-28T22:02:03.442922",
     "exception": false,
     "start_time": "2022-02-28T22:02:02.521614",
     "status": "completed"
    },
    "tags": []
   },
   "outputs": [
    {
     "name": "stdout",
     "output_type": "stream",
     "text": [
      "(1460, 277)\n"
     ]
    },
    {
     "data": {
      "text/plain": [
       "0       208500\n",
       "1       181500\n",
       "2       223500\n",
       "3       140000\n",
       "4       250000\n",
       "         ...  \n",
       "1455    175000\n",
       "1456    210000\n",
       "1457    266500\n",
       "1458    142125\n",
       "1459    147500\n",
       "Name: SalePrice, Length: 1460, dtype: int64"
      ]
     },
     "execution_count": 18,
     "metadata": {},
     "output_type": "execute_result"
    }
   ],
   "source": [
    "one_hot_encoded_data = pd.get_dummies(df,\n",
    "columns=['MSZoning','Street','LotShape','LandContour','Utilities','LotConfig','LandSlope','Neighborhood',\n",
    "         'Condition2','BldgType','Condition1','HouseStyle','SaleType',\n",
    "        'SaleCondition','ExterCond',\n",
    "         'ExterQual','Foundation','BsmtQual','BsmtCond','BsmtExposure','BsmtFinType1','BsmtFinType2',\n",
    "        'RoofStyle','RoofMatl','Exterior1st','Exterior2nd','MasVnrType','Heating','HeatingQC',\n",
    "         'CentralAir',\n",
    "         'Electrical','KitchenQual','Functional',\n",
    "         'FireplaceQu','GarageType','GarageFinish','GarageQual','GarageCond','PavedDrive'])\n",
    "print(one_hot_encoded_data.shape)\n",
    "target = df.iloc[:,-1]\n",
    "target"
   ]
  },
  {
   "cell_type": "code",
   "execution_count": 19,
   "id": "ffea319d",
   "metadata": {
    "execution": {
     "iopub.execute_input": "2022-02-28T22:02:03.518410Z",
     "iopub.status.busy": "2022-02-28T22:02:03.517573Z",
     "iopub.status.idle": "2022-02-28T22:02:03.519712Z",
     "shell.execute_reply": "2022-02-28T22:02:03.520092Z",
     "shell.execute_reply.started": "2022-02-28T21:49:08.645518Z"
    },
    "papermill": {
     "duration": 0.041059,
     "end_time": "2022-02-28T22:02:03.520221",
     "exception": false,
     "start_time": "2022-02-28T22:02:03.479162",
     "status": "completed"
    },
    "tags": []
   },
   "outputs": [],
   "source": [
    "# one_hot_encoded_data= one_hot_encoded_data.loc[:,~one_hot_encoded_data.columns.duplicated()]\n",
    "# one_hot_encoded_data.shape"
   ]
  },
  {
   "cell_type": "code",
   "execution_count": 20,
   "id": "f4161026",
   "metadata": {
    "execution": {
     "iopub.execute_input": "2022-02-28T22:02:03.596988Z",
     "iopub.status.busy": "2022-02-28T22:02:03.596333Z",
     "iopub.status.idle": "2022-02-28T22:02:03.599207Z",
     "shell.execute_reply": "2022-02-28T22:02:03.599832Z",
     "shell.execute_reply.started": "2022-02-28T21:49:08.651067Z"
    },
    "papermill": {
     "duration": 0.044486,
     "end_time": "2022-02-28T22:02:03.600000",
     "exception": false,
     "start_time": "2022-02-28T22:02:03.555514",
     "status": "completed"
    },
    "tags": []
   },
   "outputs": [
    {
     "data": {
      "text/plain": [
       "(1460, 276)"
      ]
     },
     "execution_count": 20,
     "metadata": {},
     "output_type": "execute_result"
    }
   ],
   "source": [
    "one_hot_encoded_data.drop(['SalePrice'],axis=1,inplace=True)\n",
    "one_hot_encoded_data.shape"
   ]
  },
  {
   "cell_type": "code",
   "execution_count": 21,
   "id": "bc1a5b5c",
   "metadata": {
    "execution": {
     "iopub.execute_input": "2022-02-28T22:02:03.675560Z",
     "iopub.status.busy": "2022-02-28T22:02:03.674954Z",
     "iopub.status.idle": "2022-02-28T22:02:03.677721Z",
     "shell.execute_reply": "2022-02-28T22:02:03.677245Z",
     "shell.execute_reply.started": "2022-02-28T21:49:08.661649Z"
    },
    "papermill": {
     "duration": 0.041785,
     "end_time": "2022-02-28T22:02:03.677842",
     "exception": false,
     "start_time": "2022-02-28T22:02:03.636057",
     "status": "completed"
    },
    "tags": []
   },
   "outputs": [],
   "source": [
    "# from cuml.preprocessing import StandardScaler\n",
    "# scaler=StandardScaler()\n",
    "# X_scaled=scaler.fit_transform(one_hot_encoded_data)\n",
    "# X_scaled"
   ]
  },
  {
   "cell_type": "code",
   "execution_count": 22,
   "id": "bb22ca7a",
   "metadata": {
    "execution": {
     "iopub.execute_input": "2022-02-28T22:02:03.754054Z",
     "iopub.status.busy": "2022-02-28T22:02:03.753355Z",
     "iopub.status.idle": "2022-02-28T22:02:07.206822Z",
     "shell.execute_reply": "2022-02-28T22:02:07.206293Z",
     "shell.execute_reply.started": "2022-02-28T21:49:08.668260Z"
    },
    "papermill": {
     "duration": 3.49335,
     "end_time": "2022-02-28T22:02:07.206951",
     "exception": false,
     "start_time": "2022-02-28T22:02:03.713601",
     "status": "completed"
    },
    "tags": []
   },
   "outputs": [],
   "source": [
    "# from cuml.model_selection import train_test_split\n",
    "# X_train, X_test, y_train, y_test= train_test_split(one_hot_encoded_data,target, test_size=0.3, random_state=42)\n",
    "from cuml.model_selection import train_test_split\n",
    "x_train, x_val, y_train, y_val = train_test_split(one_hot_encoded_data,target, test_size=0.3, random_state=42)"
   ]
  },
  {
   "cell_type": "code",
   "execution_count": 23,
   "id": "5efc3e3e",
   "metadata": {
    "execution": {
     "iopub.execute_input": "2022-02-28T22:02:07.286727Z",
     "iopub.status.busy": "2022-02-28T22:02:07.286006Z",
     "iopub.status.idle": "2022-02-28T22:02:07.288198Z",
     "shell.execute_reply": "2022-02-28T22:02:07.288653Z",
     "shell.execute_reply.started": "2022-02-28T21:49:08.738343Z"
    },
    "papermill": {
     "duration": 0.044746,
     "end_time": "2022-02-28T22:02:07.288802",
     "exception": false,
     "start_time": "2022-02-28T22:02:07.244056",
     "status": "completed"
    },
    "tags": []
   },
   "outputs": [],
   "source": [
    "from cuml.linear_model import LinearRegression\n",
    "lr_eig = LinearRegression(fit_intercept = True, normalize = False, algorithm = \"eig\")\n",
    "lr_svd = LinearRegression(fit_intercept = True, normalize = False, algorithm = \"svd\")\n",
    "lr_qr = LinearRegression(fit_intercept = True, normalize = False, algorithm = \"qr\")\n",
    "lr_svdqr = LinearRegression(fit_intercept = True, normalize = False, algorithm = \"svd-qr\")\n",
    "lr_svdjac = LinearRegression(fit_intercept = True, normalize = False, algorithm = \"svd-jacobi\")"
   ]
  },
  {
   "cell_type": "code",
   "execution_count": 24,
   "id": "013502f3",
   "metadata": {
    "execution": {
     "iopub.execute_input": "2022-02-28T22:02:07.371132Z",
     "iopub.status.busy": "2022-02-28T22:02:07.370310Z",
     "iopub.status.idle": "2022-02-28T22:02:10.066748Z",
     "shell.execute_reply": "2022-02-28T22:02:10.066263Z",
     "shell.execute_reply.started": "2022-02-28T21:49:08.752461Z"
    },
    "papermill": {
     "duration": 2.742279,
     "end_time": "2022-02-28T22:02:10.066883",
     "exception": false,
     "start_time": "2022-02-28T22:02:07.324604",
     "status": "completed"
    },
    "tags": []
   },
   "outputs": [
    {
     "data": {
      "text/plain": [
       "LinearRegression()"
      ]
     },
     "execution_count": 24,
     "metadata": {},
     "output_type": "execute_result"
    }
   ],
   "source": [
    "lr_eig.fit(x_train, y_train)\n",
    "lr_svd.fit(x_train, y_train)\n",
    "lr_qr.fit(x_train, y_train)\n",
    "lr_svdqr.fit(x_train, y_train)\n",
    "lr_svdjac.fit(x_train, y_train)"
   ]
  },
  {
   "cell_type": "code",
   "execution_count": 25,
   "id": "bf54ae2e",
   "metadata": {
    "execution": {
     "iopub.execute_input": "2022-02-28T22:02:10.151598Z",
     "iopub.status.busy": "2022-02-28T22:02:10.150757Z",
     "iopub.status.idle": "2022-02-28T22:02:10.497399Z",
     "shell.execute_reply": "2022-02-28T22:02:10.496819Z",
     "shell.execute_reply.started": "2022-02-28T21:49:09.103551Z"
    },
    "papermill": {
     "duration": 0.394003,
     "end_time": "2022-02-28T22:02:10.497563",
     "exception": false,
     "start_time": "2022-02-28T22:02:10.103560",
     "status": "completed"
    },
    "tags": []
   },
   "outputs": [],
   "source": [
    "preds_eig = lr_eig.predict(x_val)\n",
    "preds_svd = lr_svd.predict(x_val)\n",
    "preds_qr = lr_qr.predict(x_val)\n",
    "preds_svdqr = lr_svdqr.predict(x_val)\n",
    "preds_svdjac = lr_svdjac.predict(x_val)"
   ]
  },
  {
   "cell_type": "code",
   "execution_count": 26,
   "id": "50345a60",
   "metadata": {
    "execution": {
     "iopub.execute_input": "2022-02-28T22:02:10.577195Z",
     "iopub.status.busy": "2022-02-28T22:02:10.575858Z",
     "iopub.status.idle": "2022-02-28T22:02:10.581025Z",
     "shell.execute_reply": "2022-02-28T22:02:10.580189Z",
     "shell.execute_reply.started": "2022-02-28T21:49:09.474775Z"
    },
    "papermill": {
     "duration": 0.046842,
     "end_time": "2022-02-28T22:02:10.581137",
     "exception": false,
     "start_time": "2022-02-28T22:02:10.534295",
     "status": "completed"
    },
    "tags": []
   },
   "outputs": [],
   "source": [
    "preds_eig = preds_eig.astype(np.int64)\n",
    "preds_svd = preds_svd.astype(np.int64)\n",
    "preds_qr = preds_qr.astype(np.int64)\n",
    "preds_svdqr = preds_svdqr.astype(np.int64)\n",
    "preds_svdjac = preds_svdjac.astype(np.int64)"
   ]
  },
  {
   "cell_type": "code",
   "execution_count": 27,
   "id": "5e46085d",
   "metadata": {
    "execution": {
     "iopub.execute_input": "2022-02-28T22:02:10.659621Z",
     "iopub.status.busy": "2022-02-28T22:02:10.658896Z",
     "iopub.status.idle": "2022-02-28T22:02:10.661095Z",
     "shell.execute_reply": "2022-02-28T22:02:10.661499Z",
     "shell.execute_reply.started": "2022-02-28T21:49:09.482935Z"
    },
    "papermill": {
     "duration": 0.04222,
     "end_time": "2022-02-28T22:02:10.661648",
     "exception": false,
     "start_time": "2022-02-28T22:02:10.619428",
     "status": "completed"
    },
    "tags": []
   },
   "outputs": [],
   "source": [
    "algos = ['eig','svd','qr','svdqr','svdjacob']"
   ]
  },
  {
   "cell_type": "code",
   "execution_count": 28,
   "id": "707162db",
   "metadata": {
    "execution": {
     "iopub.execute_input": "2022-02-28T22:02:10.740103Z",
     "iopub.status.busy": "2022-02-28T22:02:10.739360Z",
     "iopub.status.idle": "2022-02-28T22:02:11.960296Z",
     "shell.execute_reply": "2022-02-28T22:02:11.960708Z",
     "shell.execute_reply.started": "2022-02-28T21:53:35.418699Z"
    },
    "papermill": {
     "duration": 1.26306,
     "end_time": "2022-02-28T22:02:11.960867",
     "exception": false,
     "start_time": "2022-02-28T22:02:10.697807",
     "status": "completed"
    },
    "tags": []
   },
   "outputs": [
    {
     "name": "stdout",
     "output_type": "stream",
     "text": [
      "[1.36722148e+005 1.91358881e+004 6.91358415e-310 1.88749635e+004\n",
      " 1.91358881e+004]\n"
     ]
    }
   ],
   "source": [
    "from cuml.metrics.regression import mean_absolute_error\n",
    "import numpy\n",
    "mae = numpy.empty(shape=[5])\n",
    "mae[0]=(mean_absolute_error(y_val, preds_eig))\n",
    "mae[1]=(mean_absolute_error(y_val, preds_svd))\n",
    "# mae[2]=(mean_absolute_error(y_val, preds_qr))\n",
    "mae[3]=(mean_absolute_error(y_val, preds_svdqr))\n",
    "mae[4]=(mean_absolute_error(y_val, preds_svdjac))\n",
    "print(mae)"
   ]
  },
  {
   "cell_type": "code",
   "execution_count": 29,
   "id": "827856d6",
   "metadata": {
    "execution": {
     "iopub.execute_input": "2022-02-28T22:02:12.041707Z",
     "iopub.status.busy": "2022-02-28T22:02:12.040910Z",
     "iopub.status.idle": "2022-02-28T22:02:12.285194Z",
     "shell.execute_reply": "2022-02-28T22:02:12.285623Z",
     "shell.execute_reply.started": "2022-02-28T21:53:58.583831Z"
    },
    "papermill": {
     "duration": 0.287734,
     "end_time": "2022-02-28T22:02:12.285771",
     "exception": false,
     "start_time": "2022-02-28T22:02:11.998037",
     "status": "completed"
    },
    "tags": []
   },
   "outputs": [
    {
     "name": "stdout",
     "output_type": "stream",
     "text": [
      "[7.75757188e+010 9.31974927e+008 6.91358415e-310 9.09978773e+008\n",
      " 9.31974927e+008]\n"
     ]
    }
   ],
   "source": [
    "\n",
    "\n",
    "from cuml.metrics.regression import mean_squared_error\n",
    "mse = numpy.empty(shape=[5])\n",
    "mse[0]=(mean_squared_error(y_val, preds_eig))\n",
    "mse[1]=(mean_squared_error(y_val, preds_svd))\n",
    "# mse[2]=(mean_squared_error(y_val, preds_qr))\n",
    "mse[3]=(mean_squared_error(y_val, preds_svdqr))\n",
    "mse[4]=(mean_squared_error(y_val, preds_svdjac))\n",
    "print(mse)\n",
    "\n"
   ]
  },
  {
   "cell_type": "code",
   "execution_count": 30,
   "id": "4e8f12cb",
   "metadata": {
    "execution": {
     "iopub.execute_input": "2022-02-28T22:02:12.366160Z",
     "iopub.status.busy": "2022-02-28T22:02:12.365328Z",
     "iopub.status.idle": "2022-02-28T22:02:12.370133Z",
     "shell.execute_reply": "2022-02-28T22:02:12.369675Z",
     "shell.execute_reply.started": "2022-02-28T21:54:38.498978Z"
    },
    "papermill": {
     "duration": 0.047136,
     "end_time": "2022-02-28T22:02:12.370242",
     "exception": false,
     "start_time": "2022-02-28T22:02:12.323106",
     "status": "completed"
    },
    "tags": []
   },
   "outputs": [],
   "source": [
    "y_val = y_val.astype(np.float64)\n",
    "preds_eig = preds_eig.astype(np.float64)\n",
    "preds_svd = preds_svd.astype(np.float64)\n",
    "preds_qr = preds_qr.astype(np.float64)\n",
    "preds_svdqr = preds_svdqr.astype(np.float64)\n",
    "preds_svdjac = preds_svdjac.astype(np.float64)"
   ]
  },
  {
   "cell_type": "code",
   "execution_count": 31,
   "id": "07c18465",
   "metadata": {
    "execution": {
     "iopub.execute_input": "2022-02-28T22:02:12.455301Z",
     "iopub.status.busy": "2022-02-28T22:02:12.454610Z",
     "iopub.status.idle": "2022-02-28T22:02:12.457254Z",
     "shell.execute_reply": "2022-02-28T22:02:12.457681Z",
     "shell.execute_reply.started": "2022-02-28T21:54:44.859244Z"
    },
    "papermill": {
     "duration": 0.050865,
     "end_time": "2022-02-28T22:02:12.457802",
     "exception": false,
     "start_time": "2022-02-28T22:02:12.406937",
     "status": "completed"
    },
    "tags": []
   },
   "outputs": [
    {
     "name": "stdout",
     "output_type": "stream",
     "text": [
      "[-1.21279849e+001  8.42283733e-001  6.91358415e-310  8.46006098e-001\n",
      "  8.42283733e-001]\n"
     ]
    }
   ],
   "source": [
    "from cuml.metrics.regression import r2_score\n",
    "r2 = numpy.empty(shape=[5])\n",
    "r2[0]=(r2_score(y_val, preds_eig))\n",
    "r2[1]=(r2_score(y_val, preds_svd))\n",
    "# r2[2]=(r2_score(y_val, preds_qr))\n",
    "r2[3]=(r2_score(y_val, preds_svdqr))\n",
    "r2[4]=(r2_score(y_val, preds_svdjac))\n",
    "print(r2)"
   ]
  },
  {
   "cell_type": "code",
   "execution_count": 32,
   "id": "a7dc67a2",
   "metadata": {
    "execution": {
     "iopub.execute_input": "2022-02-28T22:02:12.537189Z",
     "iopub.status.busy": "2022-02-28T22:02:12.536386Z",
     "iopub.status.idle": "2022-02-28T22:02:12.538461Z",
     "shell.execute_reply": "2022-02-28T22:02:12.538916Z",
     "shell.execute_reply.started": "2022-02-28T21:49:09.545482Z"
    },
    "papermill": {
     "duration": 0.04387,
     "end_time": "2022-02-28T22:02:12.539077",
     "exception": false,
     "start_time": "2022-02-28T22:02:12.495207",
     "status": "completed"
    },
    "tags": []
   },
   "outputs": [],
   "source": [
    "# import cuml\n",
    "# from cuml.metrics.regression import mean_squared_error,r2_score,mean_absolute_error\n",
    "# from cuml import LinearRegression\n",
    "# lr = LinearRegression(fit_intercept = True, normalize = False, algorithm = 'eig')\n",
    "# reg = lr.fit(X_train,y_train)\n",
    "# print(\"Coefficients:\")\n",
    "# print(reg.coef_)\n",
    "# print(\"Intercept:\")\n",
    "# print(reg.intercept_)\n",
    "# preds = lr.predict(X_test)\n",
    "# print(\"Predictions:\")\n",
    "# print(preds)\n",
    "# preds=preds.astype(np.int64)\n",
    "# print(\"MSE:\")\n",
    "# print(mean_squared_error(y_test,preds))\n",
    "# print(\"R2 Score:\")\n",
    "# preds=preds.astype(np.float64)\n",
    "# print(r2_score(y_test,preds))\n",
    "# print(\"MAE:\")\n",
    "# preds=preds.astype(np.int64)\n",
    "# print(mean_absolute_error(y_test,preds))"
   ]
  },
  {
   "cell_type": "code",
   "execution_count": 33,
   "id": "f7b0bf45",
   "metadata": {
    "execution": {
     "iopub.execute_input": "2022-02-28T22:02:12.617916Z",
     "iopub.status.busy": "2022-02-28T22:02:12.617167Z",
     "iopub.status.idle": "2022-02-28T22:02:12.619269Z",
     "shell.execute_reply": "2022-02-28T22:02:12.619740Z",
     "shell.execute_reply.started": "2022-02-28T21:49:09.547242Z"
    },
    "papermill": {
     "duration": 0.043274,
     "end_time": "2022-02-28T22:02:12.619855",
     "exception": false,
     "start_time": "2022-02-28T22:02:12.576581",
     "status": "completed"
    },
    "tags": []
   },
   "outputs": [],
   "source": [
    "# algorithm = ['svd', 'eig', 'qr', 'svd-qr', 'svd-jacobi']\n",
    "# for i in algorithm:\n",
    "#     print(\"Algorithm:\")\n",
    "#     print(i)\n",
    "#     lr = LinearRegression(fit_intercept = True, normalize = False, algorithm = i)\n",
    "#     reg = lr.fit(X_train,y_train)\n",
    "#     preds = lr.predict(X_test)\n",
    "#     print(\"MSE:\")\n",
    "#     print(cuml.metrics.regression.mean_squared_error(y_test,preds))\n",
    "#     print(\"R2 Score:\")\n",
    "#     print(cuml.metrics.regression.r2_score(y_test,preds))\n",
    "#     print(\"MAE:\")\n",
    "#     print(cuml.metrics.regression.mean_absolute_error(y_test,preds))"
   ]
  }
 ],
 "metadata": {
  "kernelspec": {
   "display_name": "Python 3",
   "language": "python",
   "name": "python3"
  },
  "language_info": {
   "codemirror_mode": {
    "name": "ipython",
    "version": 3
   },
   "file_extension": ".py",
   "mimetype": "text/x-python",
   "name": "python",
   "nbconvert_exporter": "python",
   "pygments_lexer": "ipython3",
   "version": "3.7.12"
  },
  "papermill": {
   "default_parameters": {},
   "duration": 29.916781,
   "end_time": "2022-02-28T22:02:14.067041",
   "environment_variables": {},
   "exception": null,
   "input_path": "__notebook__.ipynb",
   "output_path": "__notebook__.ipynb",
   "parameters": {},
   "start_time": "2022-02-28T22:01:44.150260",
   "version": "2.3.3"
  }
 },
 "nbformat": 4,
 "nbformat_minor": 5
}
